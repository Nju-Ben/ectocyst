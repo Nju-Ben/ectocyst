{
 "cells": [
  {
   "cell_type": "markdown",
   "metadata": {},
   "source": [
    "# Assignment 1"
   ]
  },
  {
   "cell_type": "markdown",
   "metadata": {},
   "source": [
    "## Assignment Guide\n",
    "\n",
    "* Answer **ALL** questions.\n",
    "* Total marks: 30.\n",
    "* Data for Questions 1 & 2 are available from the course L@G website. Data for Question 3 can be loaded from the internet.\n",
    "* Use Jupyter Notebook/Python to achieve the answers. \n",
    "* Type up your answers in a Word file (you may copy & paste some of the Python outcomes to the file).\n",
    "* Assignment submission: **`upload two files`** – [1] the Word file [2] the Jupyter Notebook/Python file (either pdf (preferred) or ipynb). 10 marks will be deducted if only one file is submitted.\n",
    "* A title page is required for the Word file with the safe assignment check. 5 marks off without safe assignment check.\n",
    "* Late submission without approval is subject to penalty (10% off per day).\n",
    "* **`Due: 11:59pm, (Thursday) 20-August-2020`**\n"
   ]
  },
  {
   "cell_type": "code",
   "execution_count": 1,
   "metadata": {},
   "outputs": [],
   "source": [
    "# import essential libraries\n",
    "import pandas as pd\n",
    "import pandas as pd \n",
    "import matplotlib.pyplot as plt\n",
    "import seaborn as sns\n",
    "import numpy as np\n",
    "sns.set() "
   ]
  },
  {
   "cell_type": "markdown",
   "metadata": {},
   "source": [
    "## Question 1 (9 marks)\n",
    "\n",
    "Use dataset stock_p2.csv to answer this question. The dataset has three columns: date, coke, and pepsi, where coke and pepsi are daily stock prices (at close) of Coca-Cola Bottling Co. Consolidated and PepsiCo, Inc., respectively, from 1990-12-31 to 2020-06-30.\n",
    "\n",
    "1. How many rows and columns are in the dataset? Set \"Date\" as the row index. Print out the last 5 observations in year `2019`. \n",
    "2. Find the dates that Coke & Pepsi stocks reach their highest price levels, respectively. Find the dates that the two companies have the same level of stock price. \n",
    "3. Compute the “log-return” (as defined in Topic 4) of the two stocks. Make violinplots of the two returns (specify inner as quartile). Comment on the results.\n",
    "4. Find mean, standard deviation, skewness, and kurtosis of Coke & Pepsi returns, respectively. Comment on the results.\n",
    "5. Make a scatterplot of the two returns with a fitted line & compute the correlation coefficient of them. Comment on the results.\n",
    "6. Consider three subperiods: [1] 1990.12.31 to 1999.12.31 [2] 2000.01.01 to 2009.12.31 [3] 2010.01.01 to 2020.06.30. Redo the previous question (part 5) for each of the three subperiods. Comment on the relationship of Coke & Pepsi stock returns over the three subperiods."
   ]
  },
  {
   "cell_type": "code",
   "execution_count": 2,
   "metadata": {},
   "outputs": [
    {
     "data": {
      "text/html": [
       "<div>\n",
       "<style scoped>\n",
       "    .dataframe tbody tr th:only-of-type {\n",
       "        vertical-align: middle;\n",
       "    }\n",
       "\n",
       "    .dataframe tbody tr th {\n",
       "        vertical-align: top;\n",
       "    }\n",
       "\n",
       "    .dataframe thead th {\n",
       "        text-align: right;\n",
       "    }\n",
       "</style>\n",
       "<table border=\"1\" class=\"dataframe\">\n",
       "  <thead>\n",
       "    <tr style=\"text-align: right;\">\n",
       "      <th></th>\n",
       "      <th>Date</th>\n",
       "      <th>coke</th>\n",
       "      <th>pepsi</th>\n",
       "    </tr>\n",
       "  </thead>\n",
       "  <tbody>\n",
       "    <tr>\n",
       "      <th>0</th>\n",
       "      <td>1990-12-31</td>\n",
       "      <td>19.00</td>\n",
       "      <td>13.0000</td>\n",
       "    </tr>\n",
       "    <tr>\n",
       "      <th>1</th>\n",
       "      <td>1991-01-02</td>\n",
       "      <td>18.25</td>\n",
       "      <td>12.8750</td>\n",
       "    </tr>\n",
       "    <tr>\n",
       "      <th>2</th>\n",
       "      <td>1991-01-03</td>\n",
       "      <td>17.50</td>\n",
       "      <td>12.5000</td>\n",
       "    </tr>\n",
       "    <tr>\n",
       "      <th>3</th>\n",
       "      <td>1991-01-04</td>\n",
       "      <td>16.75</td>\n",
       "      <td>12.4375</td>\n",
       "    </tr>\n",
       "    <tr>\n",
       "      <th>4</th>\n",
       "      <td>1991-01-07</td>\n",
       "      <td>16.75</td>\n",
       "      <td>12.1250</td>\n",
       "    </tr>\n",
       "  </tbody>\n",
       "</table>\n",
       "</div>"
      ],
      "text/plain": [
       "        Date   coke    pepsi\n",
       "0 1990-12-31  19.00  13.0000\n",
       "1 1991-01-02  18.25  12.8750\n",
       "2 1991-01-03  17.50  12.5000\n",
       "3 1991-01-04  16.75  12.4375\n",
       "4 1991-01-07  16.75  12.1250"
      ]
     },
     "execution_count": 2,
     "metadata": {},
     "output_type": "execute_result"
    }
   ],
   "source": [
    "# load data, turn Date into datetime format, set Date as the index\n",
    "sp2=pd.read_csv('stock_p2.csv', parse_dates=['Date'], dayfirst = True)\n",
    "sp2.head()"
   ]
  },
  {
   "cell_type": "code",
   "execution_count": 3,
   "metadata": {},
   "outputs": [],
   "source": [
    "#problem 1 How many rows and columns are in the dataset? Set \"Date\" as the row index. Print out the last 5 observations in year 2019"
   ]
  },
  {
   "cell_type": "code",
   "execution_count": 4,
   "metadata": {},
   "outputs": [
    {
     "name": "stdout",
     "output_type": "stream",
     "text": [
      "row is 7432,column is 3\n"
     ]
    },
    {
     "data": {
      "text/html": [
       "<div>\n",
       "<style scoped>\n",
       "    .dataframe tbody tr th:only-of-type {\n",
       "        vertical-align: middle;\n",
       "    }\n",
       "\n",
       "    .dataframe tbody tr th {\n",
       "        vertical-align: top;\n",
       "    }\n",
       "\n",
       "    .dataframe thead th {\n",
       "        text-align: right;\n",
       "    }\n",
       "</style>\n",
       "<table border=\"1\" class=\"dataframe\">\n",
       "  <thead>\n",
       "    <tr style=\"text-align: right;\">\n",
       "      <th></th>\n",
       "      <th>coke</th>\n",
       "      <th>pepsi</th>\n",
       "    </tr>\n",
       "    <tr>\n",
       "      <th>Date</th>\n",
       "      <th></th>\n",
       "      <th></th>\n",
       "    </tr>\n",
       "  </thead>\n",
       "  <tbody>\n",
       "    <tr>\n",
       "      <th>2019-12-24</th>\n",
       "      <td>286.440002</td>\n",
       "      <td>136.889999</td>\n",
       "    </tr>\n",
       "    <tr>\n",
       "      <th>2019-12-26</th>\n",
       "      <td>292.640015</td>\n",
       "      <td>136.690002</td>\n",
       "    </tr>\n",
       "    <tr>\n",
       "      <th>2019-12-27</th>\n",
       "      <td>293.649994</td>\n",
       "      <td>137.539993</td>\n",
       "    </tr>\n",
       "    <tr>\n",
       "      <th>2019-12-30</th>\n",
       "      <td>289.000000</td>\n",
       "      <td>136.809998</td>\n",
       "    </tr>\n",
       "    <tr>\n",
       "      <th>2019-12-31</th>\n",
       "      <td>284.049988</td>\n",
       "      <td>136.669998</td>\n",
       "    </tr>\n",
       "  </tbody>\n",
       "</table>\n",
       "</div>"
      ],
      "text/plain": [
       "                  coke       pepsi\n",
       "Date                              \n",
       "2019-12-24  286.440002  136.889999\n",
       "2019-12-26  292.640015  136.690002\n",
       "2019-12-27  293.649994  137.539993\n",
       "2019-12-30  289.000000  136.809998\n",
       "2019-12-31  284.049988  136.669998"
      ]
     },
     "execution_count": 4,
     "metadata": {},
     "output_type": "execute_result"
    }
   ],
   "source": [
    "row = sp2.shape[0]\n",
    "column = sp2.shape[1]\n",
    "print (\"row is %s,column is %i\" % (row,column))\n",
    "sp2 = sp2.set_index('Date')\n",
    "data_2019 = sp2[(sp2.index >'2018-12-31') & (sp2.index <='2019-12-31')]\n",
    "data_2019.tail(5)"
   ]
  },
  {
   "cell_type": "code",
   "execution_count": 5,
   "metadata": {},
   "outputs": [
    {
     "name": "stdout",
     "output_type": "stream",
     "text": [
      "highest price Date of Coke is 2019-05-13,the price is 399.859985\n",
      "highest price Date of Pepsi is 2020-02-14,the price is 146.990005\n",
      "\n",
      "the dates that the two companies have the same level of stock price 1992-04-03,the price is 17.500000\n",
      "the dates that the two companies have the same level of stock price 1992-04-14,the price is 17.750000\n",
      "the dates that the two companies have the same level of stock price 1993-04-21,the price is 18.750000\n",
      "the dates that the two companies have the same level of stock price 1993-05-03,the price is 18.500000\n",
      "the dates that the two companies have the same level of stock price 1996-07-23,the price is 33.250000\n",
      "the dates that the two companies have the same level of stock price 2013-01-02,the price is 69.330002\n"
     ]
    }
   ],
   "source": [
    "#problem 2  \n",
    "#I.Find the dates that Coke & Pepsi stocks reach their highest price levels, respectively.\n",
    "Date_Coke = sp2[sp2['coke'] == sp2.max()[0]].index.strftime(\"%Y-%m-%d\")[0]\n",
    "Date_Pepsi =  sp2[sp2['pepsi'] == sp2.max()[1]].index.strftime(\"%Y-%m-%d\")[0]\n",
    "\n",
    "print (\"highest price Date of Coke is %s,the price is %f\" % (Date_Coke,sp2.max()[0]))\n",
    "print (\"highest price Date of Pepsi is %s,the price is %f\" % (Date_Pepsi,sp2.max()[1]))\n",
    "print(\"\")\n",
    "#II. Find the dates that the two companies have the same level of stock price.\n",
    "for i in range(row):\n",
    "    if (sp2.iloc[i,0] == sp2.iloc[i,1]) :\n",
    "        Date_Same_Price = sp2.index[i].strftime(\"%Y-%m-%d\")\n",
    "        print (\"the dates that the two companies have the same level of stock price %s,the price is %f\" % (Date_Same_Price,sp2.iloc[i,1]))\n"
   ]
  },
  {
   "cell_type": "code",
   "execution_count": 6,
   "metadata": {},
   "outputs": [],
   "source": [
    "#problem 3 \n",
    "# I.Compute the “log-return” (as defined in Topic 4) of the two stocks. \n",
    "sp2_stock = sp2.copy()\n",
    "sp2_stock['coke_t+1'] = sp2_stock['coke'].shift(-1)\n",
    "sp2_stock['pepsi_t+1'] = sp2_stock['pepsi'].shift(-1)\n",
    "sp2_stock['coke_log_return'] = np.log(sp2_stock['coke_t+1']) - np.log(sp2_stock['coke'])\n",
    "sp2_stock['pepsi_log_return'] = np.log(sp2_stock['pepsi_t+1']) - np.log(sp2_stock['pepsi'])"
   ]
  },
  {
   "cell_type": "code",
   "execution_count": 7,
   "metadata": {
    "scrolled": true
   },
   "outputs": [
    {
     "data": {
      "image/png": "[encoded data removed]",
      "text/plain": [
       "<Figure size 432x288 with 1 Axes>"
      ]
     },
     "metadata": {
      "needs_background": "light"
     },
     "output_type": "display_data"
    },
    {
     "data": {
      "image/png": "[encoded data removed]",
      "text/plain": [
       "<Figure size 432x288 with 1 Axes>"
      ]
     },
     "metadata": {
      "needs_background": "light"
     },
     "output_type": "display_data"
    }
   ],
   "source": [
    "# II.Make violinplots of the two returns (specify inner as quartile). \n",
    "#Comment on the results.\n",
    "plt.figure(1)\n",
    "sns.violinplot(sp2_stock[\"coke_log_return\"], inner = 'quartile');\n",
    "plt.figure(2)\n",
    "sns.violinplot(sp2_stock[\"pepsi_log_return\"], inner = 'quartile');\n",
    "plt.show()\n",
    "\n",
    "#comment\n",
    "#The figure above is a violinplots of Coca-Cola's log return, \n",
    "#and the figure below is a violinplots of Pepsi's log return. \n",
    "#It can be seen from the figure that the distribution of both log returns \n",
    "# basically conforms to the normal distribution. Coca-Cola’s quarter pitch\n",
    "# is larger than Pepsi’s."
   ]
  },
  {
   "cell_type": "code",
   "execution_count": 8,
   "metadata": {},
   "outputs": [
    {
     "name": "stdout",
     "output_type": "stream",
     "text": [
      "the mean of pepsi return is 0.000312\n",
      "the stastdd deviation of pepsi return is 0.014743\n",
      "the skewness of pepsi return is 0.131009\n",
      "the kurtosis of pepsi return is 10.027885\n",
      "\n",
      "the mean of coke return is 0.000335\n",
      "the stastdd deviation of coke return is 0.020342\n",
      "the skewness of coke return is -0.287423\n",
      "the kurtosis of coke return is 8.905689\n"
     ]
    }
   ],
   "source": [
    "#problem 4\n",
    "# Find mean, stastdd deviation, skewness, and kurtosis of Coke & Pepsi returns, respectively. Comment on the results.\n",
    "pepsi_mean = sp2_stock['pepsi_log_return'].mean()\n",
    "pepsi_std = sp2_stock['pepsi_log_return'].std()\n",
    "pepsi_skew = sp2_stock['pepsi_log_return'].skew()\n",
    "pepsi_kurt = sp2_stock['pepsi_log_return'].kurt()\n",
    "\n",
    "print (\"the mean of pepsi return is %f\" % (pepsi_mean))\n",
    "print (\"the stastdd deviation of pepsi return is %f\" % (pepsi_std))\n",
    "print (\"the skewness of pepsi return is %f\" % (pepsi_skew))\n",
    "print (\"the kurtosis of pepsi return is %f\" % (pepsi_kurt))\n",
    "print(\"\")\n",
    "\n",
    "coke_mean = sp2_stock['coke_log_return'].mean()\n",
    "coke_std = sp2_stock['coke_log_return'].std()\n",
    "coke_skew = sp2_stock['coke_log_return'].skew()\n",
    "coke_kurt = sp2_stock['coke_log_return'].kurt()\n",
    "\n",
    "print (\"the mean of coke return is %f\" % (coke_mean))\n",
    "print (\"the stastdd deviation of coke return is %f\" % (coke_std))\n",
    "print (\"the skewness of coke return is %f\" % (coke_skew))\n",
    "print (\"the kurtosis of coke return is %f\" % (coke_kurt))\n",
    "\n",
    "#comment\n",
    "#Coca-Cola and Pepsi's stock returns (daily frequency) are both greater than 0, which is about three ten thousandths. \n",
    "#The larger standard deviation of Coca-Cola proves that the risk of Coca-Cola stock is relatively greater. \n",
    "#Coca-Cola's skewness is less than zero, indicating a negative deviation, \n",
    "#while Pepsi's skewness is greater than zero, indicating a positive deviation. \n",
    "#Pepsi has greater kurtosis, indicating that its distribution is steeper."
   ]
  },
  {
   "cell_type": "code",
   "execution_count": 9,
   "metadata": {},
   "outputs": [
    {
     "data": {
      "image/png": "[encoded data removed]",
      "text/plain": [
       "<Figure size 432x288 with 1 Axes>"
      ]
     },
     "metadata": {
      "needs_background": "light"
     },
     "output_type": "display_data"
    },
    {
     "name": "stdout",
     "output_type": "stream",
     "text": [
      "                  coke_log_return  pepsi_log_return\n",
      "coke_log_return          1.000000          0.184534\n",
      "pepsi_log_return         0.184534          1.000000\n"
     ]
    }
   ],
   "source": [
    "#problem5 \n",
    "#I.Make a scatterplot of the two returns with a fitted line\n",
    "sp2_plot = sp2_stock[['coke_log_return','pepsi_log_return']]\n",
    "sns.regplot( x=\"coke_log_return\", y=\"pepsi_log_return\",data=sp2_plot )\n",
    "plt.show()\n",
    "\n",
    "#II.compute the correlation coefficient of them.\n",
    "corr = sp2_plot.corr()\n",
    "print(corr)\n",
    "\n",
    "#III.Comment on the results.\n",
    "#The correlation coefficient of Coca-Cola and Pepsi's stock returns is about 0.1845, \n",
    "#indicating a certain correlation, but the correlation coefficient is not high."
   ]
  },
  {
   "cell_type": "code",
   "execution_count": 11,
   "metadata": {},
   "outputs": [],
   "source": [
    "#problem 6\n",
    "#Consider three subperiods: [1] 1990.12.31 to 1999.12.31 [2] 2000.01.01 to 2009.12.31 [3] 2010.01.01 to 2020.06.30. \n",
    "#Redo the previous question (part 5) for each of the three subperiods. Comment on the relationship of Coke & Pepsi stock returns over the three subperiods."
   ]
  },
  {
   "cell_type": "code",
   "execution_count": 10,
   "metadata": {},
   "outputs": [
    {
     "data": {
      "image/png": "[encoded data removed]",
      "text/plain": [
       "<Figure size 432x288 with 1 Axes>"
      ]
     },
     "metadata": {
      "needs_background": "light"
     },
     "output_type": "display_data"
    },
    {
     "name": "stdout",
     "output_type": "stream",
     "text": [
      "                  coke_log_return  pepsi_log_return\n",
      "coke_log_return          1.000000          0.082912\n",
      "pepsi_log_return         0.082912          1.000000\n"
     ]
    }
   ],
   "source": [
    "#subperiods: [1] 1990.12.31 to 1999.12.31\n",
    "#I.Make a scatterplot of the two returns with a fitted line\n",
    "data_90 = sp2_stock[(sp2_stock.index >'1990-12-31') & (sp2_stock.index <='1999-12-31')]\n",
    "data_90 = data_90[['coke_log_return','pepsi_log_return']]\n",
    "sns.regplot( x=\"coke_log_return\", y=\"pepsi_log_return\",data=data_90 )\n",
    "plt.show()\n",
    "\n",
    "#II.compute the correlation coefficient of them.\n",
    "corr = data_90.corr()\n",
    "print(corr)\n",
    "\n",
    "#III.Comment on the results.\n",
    "#Between 1990 and 1999, The correlation coefficient of Coca-Cola and Pepsi's stock returns is about 0.0829, \n",
    "#indicating a certain correlation, but the correlation coefficient is not high."
   ]
  },
  {
   "cell_type": "code",
   "execution_count": 13,
   "metadata": {},
   "outputs": [
    {
     "data": {
      "image/png": "[encoded data removed]",
      "text/plain": [
       "<Figure size 432x288 with 1 Axes>"
      ]
     },
     "metadata": {
      "needs_background": "light"
     },
     "output_type": "display_data"
    },
    {
     "name": "stdout",
     "output_type": "stream",
     "text": [
      "                  coke_log_return  pepsi_log_return\n",
      "coke_log_return          1.000000          0.182495\n",
      "pepsi_log_return         0.182495          1.000000\n"
     ]
    }
   ],
   "source": [
    "#subperiods: [2] 2000.01.01 to 2009.12.31\n",
    "#I.Make a scatterplot of the two returns with a fitted line\n",
    "data_00 = sp2_stock[(sp2_stock.index >'1999-12-31') & (sp2_stock.index <='2009-12-31')]\n",
    "data_00 = data_00[['coke_log_return','pepsi_log_return']]\n",
    "sns.regplot( x=\"coke_log_return\", y=\"pepsi_log_return\",data=data_00 )\n",
    "plt.show()\n",
    "\n",
    "#II.compute the correlation coefficient of them.\n",
    "corr = data_00.corr()\n",
    "print(corr)\n",
    "\n",
    "#III.Comment on the results.\n",
    "#Between 2000 and 2009, The correlation coefficient of Coca-Cola and Pepsi's stock returns is about 0.1825, \n",
    "#indicating a certain correlation, but the correlation coefficient is also not high."
   ]
  },
  {
   "cell_type": "code",
   "execution_count": 11,
   "metadata": {},
   "outputs": [
    {
     "data": {
      "image/png": "[encoded data removed]",
      "text/plain": [
       "<Figure size 432x288 with 1 Axes>"
      ]
     },
     "metadata": {
      "needs_background": "light"
     },
     "output_type": "display_data"
    },
    {
     "name": "stdout",
     "output_type": "stream",
     "text": [
      "                  coke_log_return  pepsi_log_return\n",
      "coke_log_return          1.000000          0.342898\n",
      "pepsi_log_return         0.342898          1.000000\n"
     ]
    }
   ],
   "source": [
    "#subperiods: [3] 2010.01.01 to 2020.06.30.\n",
    "#I.Make a scatterplot of the two returns with a fitted line\n",
    "data_10 = sp2_stock[(sp2_stock.index >'2009-12-31') & (sp2_stock.index <='2020-06-30')]\n",
    "data_10 = data_10[['coke_log_return','pepsi_log_return']]\n",
    "sns.regplot( x=\"coke_log_return\", y=\"pepsi_log_return\",data=data_10 )\n",
    "plt.show()\n",
    "\n",
    "#II.compute the correlation coefficient of them.\n",
    "corr = data_10.corr()\n",
    "print(corr)\n",
    "\n",
    "#III.Comment on the results.\n",
    "#Between 2010 and 2020, The correlation coefficient of Coca-Cola and Pepsi's stock returns is about 0.3429, \n",
    "#Shows a stronger correlation, and we found that with the passage of time, \n",
    "#the correlation between Coca-Cola and Pepsi's stock returns has become stronger, \n",
    "#possibly due to the increasing number of mentors in common factors affecting their stock prices."
   ]
  },
  {
   "cell_type": "markdown",
   "metadata": {},
   "source": [
    "## Question 2 (15 marks)\n",
    "\n",
    "Use data in w2000.csv to answer this question. The dataset contains information of top 2000 wealthiest persons in the world (of 2018), including the following columns: position, name, age, country, gender, wealthSource, industry, and worth (in millions of USD).\n",
    "\n",
    "1. How many countries have at least one wealthiest person in the dataset? How many have at least one wealthiest man? How many have at least one wealthiest woman?\n",
    "2. Make a list of the top 10 wealthiest women and compute the total wealth of them.\n",
    "3. What are the top 20 countries having the majority of wealthiest persons? Make a bar chart showing the number of wealthiest persons for each of these countries.\n",
    "4. Make two pie plots of total worth by each industry, one for Japan and another for South Korea. Compare the two plots.\n",
    "5. Find the oldest wealthiest person of each industry in Australia. Find all wealthiest men in the world of the \"finance & investments\" industry who are over 90 years old. \n",
    "6. Find two lists of wealthiest persons -- first list contains those associated with Google (in terms of wealth source) and second list contains those with Facebook. Compare the average age across the two lists.\n",
    "7. Which industry (apart from Philanthropy/NGO) has the highest percentage of wealthiest women? Are there any countries in the world with all wealthiest persons being female? \n",
    "8. Find the 10 most pupolar first names of wealthiest persons in the US. How many wealthiest men in the world are with first name 'Jack'?\n",
    "9. Create a subset of the so-called BRICS countries (Brazil, Russia, India, China, South Africa). In total, how many wealthiest persons are from BRICS? What is the average age of them by each country? \n",
    "10.\tUse the BRICS subset to make a boxplot of age by each industry, separated by gender with \"hue\" (in one graph). Comment on the plot.\n"
   ]
  },
  {
   "cell_type": "code",
   "execution_count": 12,
   "metadata": {},
   "outputs": [
    {
     "data": {
      "text/html": [
       "<div>\n",
       "<style scoped>\n",
       "    .dataframe tbody tr th:only-of-type {\n",
       "        vertical-align: middle;\n",
       "    }\n",
       "\n",
       "    .dataframe tbody tr th {\n",
       "        vertical-align: top;\n",
       "    }\n",
       "\n",
       "    .dataframe thead th {\n",
       "        text-align: right;\n",
       "    }\n",
       "</style>\n",
       "<table border=\"1\" class=\"dataframe\">\n",
       "  <thead>\n",
       "    <tr style=\"text-align: right;\">\n",
       "      <th></th>\n",
       "      <th>position</th>\n",
       "      <th>name</th>\n",
       "      <th>age</th>\n",
       "      <th>country</th>\n",
       "      <th>gender</th>\n",
       "      <th>wealthSource</th>\n",
       "      <th>industry</th>\n",
       "      <th>worth</th>\n",
       "    </tr>\n",
       "  </thead>\n",
       "  <tbody>\n",
       "    <tr>\n",
       "      <th>0</th>\n",
       "      <td>1</td>\n",
       "      <td>Jeff Bezos</td>\n",
       "      <td>54</td>\n",
       "      <td>United States</td>\n",
       "      <td>M</td>\n",
       "      <td>Amazon</td>\n",
       "      <td>Technology</td>\n",
       "      <td>112000</td>\n",
       "    </tr>\n",
       "    <tr>\n",
       "      <th>1</th>\n",
       "      <td>2</td>\n",
       "      <td>Bill Gates</td>\n",
       "      <td>62</td>\n",
       "      <td>United States</td>\n",
       "      <td>M</td>\n",
       "      <td>Microsoft</td>\n",
       "      <td>Technology</td>\n",
       "      <td>90000</td>\n",
       "    </tr>\n",
       "    <tr>\n",
       "      <th>2</th>\n",
       "      <td>3</td>\n",
       "      <td>Warren Buffett</td>\n",
       "      <td>87</td>\n",
       "      <td>United States</td>\n",
       "      <td>M</td>\n",
       "      <td>Berkshire Hathaway</td>\n",
       "      <td>Finance and Investments</td>\n",
       "      <td>84000</td>\n",
       "    </tr>\n",
       "    <tr>\n",
       "      <th>3</th>\n",
       "      <td>4</td>\n",
       "      <td>Bernard Arnault</td>\n",
       "      <td>69</td>\n",
       "      <td>France</td>\n",
       "      <td>M</td>\n",
       "      <td>LVMH</td>\n",
       "      <td>Fashion &amp; Retail</td>\n",
       "      <td>72000</td>\n",
       "    </tr>\n",
       "    <tr>\n",
       "      <th>4</th>\n",
       "      <td>5</td>\n",
       "      <td>Mark Zuckerberg</td>\n",
       "      <td>34</td>\n",
       "      <td>United States</td>\n",
       "      <td>M</td>\n",
       "      <td>Facebook</td>\n",
       "      <td>Technology</td>\n",
       "      <td>71000</td>\n",
       "    </tr>\n",
       "  </tbody>\n",
       "</table>\n",
       "</div>"
      ],
      "text/plain": [
       "   position             name  age        country gender        wealthSource  \\\n",
       "0         1       Jeff Bezos   54  United States      M              Amazon   \n",
       "1         2       Bill Gates   62  United States      M           Microsoft   \n",
       "2         3   Warren Buffett   87  United States      M  Berkshire Hathaway   \n",
       "3         4  Bernard Arnault   69         France      M                LVMH   \n",
       "4         5  Mark Zuckerberg   34  United States      M            Facebook   \n",
       "\n",
       "                  industry   worth  \n",
       "0               Technology  112000  \n",
       "1               Technology   90000  \n",
       "2  Finance and Investments   84000  \n",
       "3         Fashion & Retail   72000  \n",
       "4               Technology   71000  "
      ]
     },
     "execution_count": 12,
     "metadata": {},
     "output_type": "execute_result"
    }
   ],
   "source": [
    "w=pd.read_csv('w2000.csv')\n",
    "w.head(5)"
   ]
  },
  {
   "cell_type": "code",
   "execution_count": 13,
   "metadata": {},
   "outputs": [
    {
     "name": "stdout",
     "output_type": "stream",
     "text": [
      "72 countries have at least one wealthiest person\n",
      "70 countries have at least one wealthiest man\n",
      "33 countries have at least one wealthiest woman\n"
     ]
    }
   ],
   "source": [
    "#problem1\n",
    "#How many countries have at least one wealthiest person in the dataset? \n",
    "#How many have at least one wealthiest man? How many have at least one wealthiest woman?\n",
    "\n",
    "n_total = int(len(w.groupby('country').count()))\n",
    "w_man = w[w['gender'] == 'M']\n",
    "w_woman = w[w['gender'] == 'F']\n",
    "n_man_total = int(len(w_man.groupby('country').count()))\n",
    "n_woman_total = int(len(w_woman.groupby('country').count()))\n",
    "\n",
    "print (\"%d countries have at least one wealthiest person\" % (n_total))\n",
    "print (\"%d countries have at least one wealthiest man\" % (n_man_total))\n",
    "print (\"%d countries have at least one wealthiest woman\" % (n_woman_total))"
   ]
  },
  {
   "cell_type": "code",
   "execution_count": 14,
   "metadata": {},
   "outputs": [
    {
     "name": "stdout",
     "output_type": "stream",
     "text": [
      "the total wealth of the top 10 wealthiest woman is 242900 millions of USD\n"
     ]
    },
    {
     "data": {
      "text/html": [
       "<div>\n",
       "<style scoped>\n",
       "    .dataframe tbody tr th:only-of-type {\n",
       "        vertical-align: middle;\n",
       "    }\n",
       "\n",
       "    .dataframe tbody tr th {\n",
       "        vertical-align: top;\n",
       "    }\n",
       "\n",
       "    .dataframe thead th {\n",
       "        text-align: right;\n",
       "    }\n",
       "</style>\n",
       "<table border=\"1\" class=\"dataframe\">\n",
       "  <thead>\n",
       "    <tr style=\"text-align: right;\">\n",
       "      <th></th>\n",
       "      <th>position</th>\n",
       "      <th>name</th>\n",
       "      <th>age</th>\n",
       "      <th>country</th>\n",
       "      <th>gender</th>\n",
       "      <th>wealthSource</th>\n",
       "      <th>industry</th>\n",
       "      <th>worth</th>\n",
       "    </tr>\n",
       "  </thead>\n",
       "  <tbody>\n",
       "    <tr>\n",
       "      <th>15</th>\n",
       "      <td>16</td>\n",
       "      <td>Alice Walton</td>\n",
       "      <td>68</td>\n",
       "      <td>United States</td>\n",
       "      <td>F</td>\n",
       "      <td>Walmart</td>\n",
       "      <td>Fashion &amp; Retail</td>\n",
       "      <td>46000</td>\n",
       "    </tr>\n",
       "    <tr>\n",
       "      <th>17</th>\n",
       "      <td>18</td>\n",
       "      <td>Francoise Bettencourt Meyers</td>\n",
       "      <td>64</td>\n",
       "      <td>France</td>\n",
       "      <td>F</td>\n",
       "      <td>L'Oreal</td>\n",
       "      <td>Fashion &amp; Retail</td>\n",
       "      <td>42200</td>\n",
       "    </tr>\n",
       "    <tr>\n",
       "      <th>30</th>\n",
       "      <td>32</td>\n",
       "      <td>Susanne Klatten</td>\n",
       "      <td>56</td>\n",
       "      <td>Germany</td>\n",
       "      <td>F</td>\n",
       "      <td>BMW, pharmaceuticals</td>\n",
       "      <td>Automotive</td>\n",
       "      <td>25000</td>\n",
       "    </tr>\n",
       "    <tr>\n",
       "      <th>32</th>\n",
       "      <td>34</td>\n",
       "      <td>Jacqueline Mars</td>\n",
       "      <td>78</td>\n",
       "      <td>United States</td>\n",
       "      <td>F</td>\n",
       "      <td>candy, pet food</td>\n",
       "      <td>Food and Beverage</td>\n",
       "      <td>23600</td>\n",
       "    </tr>\n",
       "    <tr>\n",
       "      <th>41</th>\n",
       "      <td>43</td>\n",
       "      <td>Yang Huiyan</td>\n",
       "      <td>36</td>\n",
       "      <td>China</td>\n",
       "      <td>F</td>\n",
       "      <td>real estate</td>\n",
       "      <td>Real Estate</td>\n",
       "      <td>21900</td>\n",
       "    </tr>\n",
       "    <tr>\n",
       "      <th>55</th>\n",
       "      <td>58</td>\n",
       "      <td>Laurene Powell Jobs</td>\n",
       "      <td>54</td>\n",
       "      <td>United States</td>\n",
       "      <td>F</td>\n",
       "      <td>Apple, Disney</td>\n",
       "      <td>Philanthropy/NGO</td>\n",
       "      <td>18800</td>\n",
       "    </tr>\n",
       "    <tr>\n",
       "      <th>68</th>\n",
       "      <td>71</td>\n",
       "      <td>Gina Rinehart</td>\n",
       "      <td>64</td>\n",
       "      <td>Australia</td>\n",
       "      <td>F</td>\n",
       "      <td>mining</td>\n",
       "      <td>Metals &amp; Mining</td>\n",
       "      <td>17400</td>\n",
       "    </tr>\n",
       "    <tr>\n",
       "      <th>77</th>\n",
       "      <td>81</td>\n",
       "      <td>Iris Fontbona</td>\n",
       "      <td>75</td>\n",
       "      <td>Chile</td>\n",
       "      <td>F</td>\n",
       "      <td>mining</td>\n",
       "      <td>Metals &amp; Mining</td>\n",
       "      <td>16300</td>\n",
       "    </tr>\n",
       "    <tr>\n",
       "      <th>79</th>\n",
       "      <td>83</td>\n",
       "      <td>Abigail Johnson</td>\n",
       "      <td>56</td>\n",
       "      <td>United States</td>\n",
       "      <td>F</td>\n",
       "      <td>money management</td>\n",
       "      <td>Finance and Investments</td>\n",
       "      <td>15900</td>\n",
       "    </tr>\n",
       "    <tr>\n",
       "      <th>82</th>\n",
       "      <td>86</td>\n",
       "      <td>Charlene de Carvalho-Heineken</td>\n",
       "      <td>63</td>\n",
       "      <td>Netherlands</td>\n",
       "      <td>F</td>\n",
       "      <td>Heineken</td>\n",
       "      <td>Food and Beverage</td>\n",
       "      <td>15800</td>\n",
       "    </tr>\n",
       "  </tbody>\n",
       "</table>\n",
       "</div>"
      ],
      "text/plain": [
       "    position                           name  age        country gender  \\\n",
       "15        16                   Alice Walton   68  United States      F   \n",
       "17        18   Francoise Bettencourt Meyers   64         France      F   \n",
       "30        32                Susanne Klatten   56        Germany      F   \n",
       "32        34                Jacqueline Mars   78  United States      F   \n",
       "41        43                    Yang Huiyan   36          China      F   \n",
       "55        58            Laurene Powell Jobs   54  United States      F   \n",
       "68        71                  Gina Rinehart   64      Australia      F   \n",
       "77        81                  Iris Fontbona   75          Chile      F   \n",
       "79        83                Abigail Johnson   56  United States      F   \n",
       "82        86  Charlene de Carvalho-Heineken   63    Netherlands      F   \n",
       "\n",
       "            wealthSource                 industry  worth  \n",
       "15               Walmart         Fashion & Retail  46000  \n",
       "17               L'Oreal         Fashion & Retail  42200  \n",
       "30  BMW, pharmaceuticals               Automotive  25000  \n",
       "32       candy, pet food        Food and Beverage  23600  \n",
       "41           real estate              Real Estate  21900  \n",
       "55         Apple, Disney         Philanthropy/NGO  18800  \n",
       "68                mining          Metals & Mining  17400  \n",
       "77                mining          Metals & Mining  16300  \n",
       "79      money management  Finance and Investments  15900  \n",
       "82              Heineken        Food and Beverage  15800  "
      ]
     },
     "execution_count": 14,
     "metadata": {},
     "output_type": "execute_result"
    }
   ],
   "source": [
    "#problem2 \n",
    "#Make a list of the top 10 wealthiest women and compute the total wealth of them.\n",
    "w_woman_head = w[w['gender'] == 'F']\n",
    "w_woman_head.sort_values(by = 'worth')\n",
    "w_woman_head = w_woman_head.head(10)\n",
    "money = w_woman_head['worth'].sum() \n",
    "print (\"the total wealth of the top 10 wealthiest woman is %d millions of USD\" % (money))\n",
    "w_woman_head.head(10)"
   ]
  },
  {
   "cell_type": "code",
   "execution_count": 15,
   "metadata": {},
   "outputs": [
    {
     "data": {
      "image/png": "[encoded data removed]",
      "text/plain": [
       "<Figure size 432x288 with 1 Axes>"
      ]
     },
     "metadata": {
      "needs_background": "light"
     },
     "output_type": "display_data"
    },
    {
     "data": {
      "text/plain": [
       "Index(['United States', 'China', 'India', 'Germany', 'Russia', 'Hong Kong',\n",
       "       'United Kingdom', 'Canada', 'Italy', 'South Korea', 'Brazil',\n",
       "       'Australia', 'France', 'Switzerland', 'Turkey', 'Japan', 'Sweden',\n",
       "       'Spain', 'Taiwan', 'Thailand'],\n",
       "      dtype='object', name='country')"
      ]
     },
     "execution_count": 15,
     "metadata": {},
     "output_type": "execute_result"
    }
   ],
   "source": [
    "#problem3\n",
    "#What are the top 20 countries having the majority of wealthiest persons? \n",
    "#Make a bar chart showing the number of wealthiest persons for each of these countries.\n",
    "countries = w.groupby('country').count()\n",
    "countries.sort_values(by = 'position',inplace=True, ascending=False)\n",
    "countries_plot = countries.head(20)\n",
    "\n",
    "x_index = countries_plot.index\n",
    "y = countries_plot['position']\n",
    "#plt.barh(x_index, y, label='graph 1')\n",
    "plt.bar(x_index, y, label='graph 1')\n",
    "for x, y in enumerate(y):\n",
    "    plt.text(x-0.4, y+20, \"%s\" %y)\n",
    "\n",
    "plt.xticks(rotation=-90)\n",
    "plt.show()\n",
    "x_index"
   ]
  },
  {
   "cell_type": "code",
   "execution_count": 16,
   "metadata": {},
   "outputs": [
    {
     "data": {
      "text/plain": [
       "<matplotlib.axes._subplots.AxesSubplot at 0x1de6bd00630>"
      ]
     },
     "execution_count": 16,
     "metadata": {},
     "output_type": "execute_result"
    },
    {
     "data": {
      "image/png": "[encoded data removed]",
      "text/plain": [
       "<Figure size 432x288 with 1 Axes>"
      ]
     },
     "metadata": {},
     "output_type": "display_data"
    },
    {
     "data": {
      "image/png": "[encoded data removed]",
      "text/plain": [
       "<Figure size 432x288 with 1 Axes>"
      ]
     },
     "metadata": {},
     "output_type": "display_data"
    }
   ],
   "source": [
    "#problem4 \n",
    "#Make two pie plots of total worth by each industry, one for Japan and another for South Korea. Compare the two plots.\n",
    "Japan_data = w[w['country'] == 'Japan']\n",
    "SK_data = w[w['country'] == 'South Korea']\n",
    "Japan_series = Japan_data.groupby(by=['industry'])['worth'].sum()\n",
    "SK_series = SK_data.groupby(by=['industry'])['worth'].sum()\n",
    "plt.figure(3)\n",
    "Japan_series.plot.pie(title='Japan')\n",
    "plt.figure(4)\n",
    "SK_series.plot.pie(title='South Korea')\n",
    "\n",
    "#compare two plots\n",
    "#The richest people in Japan are concentrated in Fashion & Retail, followed by Manufacturing and Telecom industries. \n",
    "#The top three industries for Koreans are Diversified, Technology care and Healthcare"
   ]
  },
  {
   "cell_type": "code",
   "execution_count": 17,
   "metadata": {},
   "outputs": [
    {
     "data": {
      "text/html": [
       "<div>\n",
       "<style scoped>\n",
       "    .dataframe tbody tr th:only-of-type {\n",
       "        vertical-align: middle;\n",
       "    }\n",
       "\n",
       "    .dataframe tbody tr th {\n",
       "        vertical-align: top;\n",
       "    }\n",
       "\n",
       "    .dataframe thead th {\n",
       "        text-align: right;\n",
       "    }\n",
       "</style>\n",
       "<table border=\"1\" class=\"dataframe\">\n",
       "  <thead>\n",
       "    <tr style=\"text-align: right;\">\n",
       "      <th></th>\n",
       "      <th></th>\n",
       "      <th>position</th>\n",
       "      <th>name</th>\n",
       "      <th>age</th>\n",
       "      <th>country</th>\n",
       "      <th>gender</th>\n",
       "      <th>wealthSource</th>\n",
       "      <th>industry</th>\n",
       "      <th>worth</th>\n",
       "    </tr>\n",
       "    <tr>\n",
       "      <th>industry</th>\n",
       "      <th></th>\n",
       "      <th></th>\n",
       "      <th></th>\n",
       "      <th></th>\n",
       "      <th></th>\n",
       "      <th></th>\n",
       "      <th></th>\n",
       "      <th></th>\n",
       "      <th></th>\n",
       "    </tr>\n",
       "  </thead>\n",
       "  <tbody>\n",
       "    <tr>\n",
       "      <th>Automotive</th>\n",
       "      <th>281</th>\n",
       "      <td>294</td>\n",
       "      <td>Vivek Chaand Sehgal</td>\n",
       "      <td>61</td>\n",
       "      <td>Australia</td>\n",
       "      <td>M</td>\n",
       "      <td>auto parts</td>\n",
       "      <td>Automotive</td>\n",
       "      <td>6000</td>\n",
       "    </tr>\n",
       "    <tr>\n",
       "      <th>Construction &amp; Engineering</th>\n",
       "      <th>1622</th>\n",
       "      <td>1680</td>\n",
       "      <td>Bob Ell</td>\n",
       "      <td>73</td>\n",
       "      <td>Australia</td>\n",
       "      <td>M</td>\n",
       "      <td>real estate</td>\n",
       "      <td>Construction &amp; Engineering</td>\n",
       "      <td>1400</td>\n",
       "    </tr>\n",
       "    <tr>\n",
       "      <th>Diversified</th>\n",
       "      <th>749</th>\n",
       "      <td>787</td>\n",
       "      <td>Kerry Stokes</td>\n",
       "      <td>77</td>\n",
       "      <td>Australia</td>\n",
       "      <td>M</td>\n",
       "      <td>construction equipment, media</td>\n",
       "      <td>Diversified</td>\n",
       "      <td>3100</td>\n",
       "    </tr>\n",
       "    <tr>\n",
       "      <th>Fashion &amp; Retail</th>\n",
       "      <th>1368</th>\n",
       "      <td>1423</td>\n",
       "      <td>Gerry Harvey</td>\n",
       "      <td>78</td>\n",
       "      <td>Australia</td>\n",
       "      <td>M</td>\n",
       "      <td>retail</td>\n",
       "      <td>Fashion &amp; Retail</td>\n",
       "      <td>1700</td>\n",
       "    </tr>\n",
       "    <tr>\n",
       "      <th>Finance and Investments</th>\n",
       "      <th>1124</th>\n",
       "      <td>1172</td>\n",
       "      <td>David Hains</td>\n",
       "      <td>87</td>\n",
       "      <td>Australia</td>\n",
       "      <td>M</td>\n",
       "      <td>Investment</td>\n",
       "      <td>Finance and Investments</td>\n",
       "      <td>2100</td>\n",
       "    </tr>\n",
       "    <tr>\n",
       "      <th>Food and Beverage</th>\n",
       "      <th>1300</th>\n",
       "      <td>1354</td>\n",
       "      <td>Jack Cowin</td>\n",
       "      <td>75</td>\n",
       "      <td>Australia</td>\n",
       "      <td>M</td>\n",
       "      <td>fast food</td>\n",
       "      <td>Food and Beverage</td>\n",
       "      <td>1800</td>\n",
       "    </tr>\n",
       "    <tr>\n",
       "      <th>Gambling &amp; Casinos</th>\n",
       "      <th>1695</th>\n",
       "      <td>1756</td>\n",
       "      <td>Len Ainsworth</td>\n",
       "      <td>94</td>\n",
       "      <td>Australia</td>\n",
       "      <td>M</td>\n",
       "      <td>betting machines</td>\n",
       "      <td>Gambling &amp; Casinos</td>\n",
       "      <td>1300</td>\n",
       "    </tr>\n",
       "    <tr>\n",
       "      <th>Logistics</th>\n",
       "      <th>653</th>\n",
       "      <td>687</td>\n",
       "      <td>Lindsay Fox</td>\n",
       "      <td>81</td>\n",
       "      <td>Australia</td>\n",
       "      <td>M</td>\n",
       "      <td>logistics, real estate</td>\n",
       "      <td>Logistics</td>\n",
       "      <td>3400</td>\n",
       "    </tr>\n",
       "    <tr>\n",
       "      <th>Manufacturing</th>\n",
       "      <th>1673</th>\n",
       "      <td>1733</td>\n",
       "      <td>Manny Stul</td>\n",
       "      <td>69</td>\n",
       "      <td>Australia</td>\n",
       "      <td>M</td>\n",
       "      <td>toys</td>\n",
       "      <td>Manufacturing</td>\n",
       "      <td>1400</td>\n",
       "    </tr>\n",
       "    <tr>\n",
       "      <th>Metals &amp; Mining</th>\n",
       "      <th>1346</th>\n",
       "      <td>1401</td>\n",
       "      <td>Angela Bennett</td>\n",
       "      <td>74</td>\n",
       "      <td>Australia</td>\n",
       "      <td>F</td>\n",
       "      <td>mining</td>\n",
       "      <td>Metals &amp; Mining</td>\n",
       "      <td>1700</td>\n",
       "    </tr>\n",
       "    <tr>\n",
       "      <th>Real Estate</th>\n",
       "      <th>1050</th>\n",
       "      <td>1094</td>\n",
       "      <td>Stanley Perron</td>\n",
       "      <td>95</td>\n",
       "      <td>Australia</td>\n",
       "      <td>M</td>\n",
       "      <td>real estate, retail</td>\n",
       "      <td>Real Estate</td>\n",
       "      <td>2300</td>\n",
       "    </tr>\n",
       "    <tr>\n",
       "      <th>Technology</th>\n",
       "      <th>1492</th>\n",
       "      <td>1548</td>\n",
       "      <td>Richard White</td>\n",
       "      <td>63</td>\n",
       "      <td>Australia</td>\n",
       "      <td>M</td>\n",
       "      <td>software</td>\n",
       "      <td>Technology</td>\n",
       "      <td>1600</td>\n",
       "    </tr>\n",
       "    <tr>\n",
       "      <th>Telecom</th>\n",
       "      <th>1484</th>\n",
       "      <td>1540</td>\n",
       "      <td>David Teoh</td>\n",
       "      <td>62</td>\n",
       "      <td>Australia</td>\n",
       "      <td>M</td>\n",
       "      <td>telecoms</td>\n",
       "      <td>Telecom</td>\n",
       "      <td>1600</td>\n",
       "    </tr>\n",
       "  </tbody>\n",
       "</table>\n",
       "</div>"
      ],
      "text/plain": [
       "                                 position                 name  age  \\\n",
       "industry                                                              \n",
       "Automotive                 281        294  Vivek Chaand Sehgal   61   \n",
       "Construction & Engineering 1622      1680              Bob Ell   73   \n",
       "Diversified                749        787         Kerry Stokes   77   \n",
       "Fashion & Retail           1368      1423         Gerry Harvey   78   \n",
       "Finance and Investments    1124      1172          David Hains   87   \n",
       "Food and Beverage          1300      1354           Jack Cowin   75   \n",
       "Gambling & Casinos         1695      1756        Len Ainsworth   94   \n",
       "Logistics                  653        687          Lindsay Fox   81   \n",
       "Manufacturing              1673      1733           Manny Stul   69   \n",
       "Metals & Mining            1346      1401       Angela Bennett   74   \n",
       "Real Estate                1050      1094       Stanley Perron   95   \n",
       "Technology                 1492      1548        Richard White   63   \n",
       "Telecom                    1484      1540           David Teoh   62   \n",
       "\n",
       "                                   country gender  \\\n",
       "industry                                            \n",
       "Automotive                 281   Australia      M   \n",
       "Construction & Engineering 1622  Australia      M   \n",
       "Diversified                749   Australia      M   \n",
       "Fashion & Retail           1368  Australia      M   \n",
       "Finance and Investments    1124  Australia      M   \n",
       "Food and Beverage          1300  Australia      M   \n",
       "Gambling & Casinos         1695  Australia      M   \n",
       "Logistics                  653   Australia      M   \n",
       "Manufacturing              1673  Australia      M   \n",
       "Metals & Mining            1346  Australia      F   \n",
       "Real Estate                1050  Australia      M   \n",
       "Technology                 1492  Australia      M   \n",
       "Telecom                    1484  Australia      M   \n",
       "\n",
       "                                                  wealthSource  \\\n",
       "industry                                                         \n",
       "Automotive                 281                      auto parts   \n",
       "Construction & Engineering 1622                    real estate   \n",
       "Diversified                749   construction equipment, media   \n",
       "Fashion & Retail           1368                         retail   \n",
       "Finance and Investments    1124                     Investment   \n",
       "Food and Beverage          1300                      fast food   \n",
       "Gambling & Casinos         1695               betting machines   \n",
       "Logistics                  653          logistics, real estate   \n",
       "Manufacturing              1673                           toys   \n",
       "Metals & Mining            1346                         mining   \n",
       "Real Estate                1050            real estate, retail   \n",
       "Technology                 1492                       software   \n",
       "Telecom                    1484                       telecoms   \n",
       "\n",
       "                                                   industry  worth  \n",
       "industry                                                            \n",
       "Automotive                 281                   Automotive   6000  \n",
       "Construction & Engineering 1622  Construction & Engineering   1400  \n",
       "Diversified                749                  Diversified   3100  \n",
       "Fashion & Retail           1368            Fashion & Retail   1700  \n",
       "Finance and Investments    1124     Finance and Investments   2100  \n",
       "Food and Beverage          1300           Food and Beverage   1800  \n",
       "Gambling & Casinos         1695          Gambling & Casinos   1300  \n",
       "Logistics                  653                    Logistics   3400  \n",
       "Manufacturing              1673               Manufacturing   1400  \n",
       "Metals & Mining            1346             Metals & Mining   1700  \n",
       "Real Estate                1050                 Real Estate   2300  \n",
       "Technology                 1492                  Technology   1600  \n",
       "Telecom                    1484                     Telecom   1600  "
      ]
     },
     "execution_count": 17,
     "metadata": {},
     "output_type": "execute_result"
    }
   ],
   "source": [
    "#problem5\n",
    "#Find the oldest wealthiest person of each industry in Australia.\n",
    "Australia_data = w[w['country'] == 'Australia']\n",
    "Australia_max = Australia_data.groupby('industry').apply(lambda t: t[t.age==t.age.max()])\n",
    "Australia_max"
   ]
  },
  {
   "cell_type": "code",
   "execution_count": 18,
   "metadata": {},
   "outputs": [
    {
     "data": {
      "text/html": [
       "<div>\n",
       "<style scoped>\n",
       "    .dataframe tbody tr th:only-of-type {\n",
       "        vertical-align: middle;\n",
       "    }\n",
       "\n",
       "    .dataframe tbody tr th {\n",
       "        vertical-align: top;\n",
       "    }\n",
       "\n",
       "    .dataframe thead th {\n",
       "        text-align: right;\n",
       "    }\n",
       "</style>\n",
       "<table border=\"1\" class=\"dataframe\">\n",
       "  <thead>\n",
       "    <tr style=\"text-align: right;\">\n",
       "      <th></th>\n",
       "      <th>position</th>\n",
       "      <th>name</th>\n",
       "      <th>age</th>\n",
       "      <th>country</th>\n",
       "      <th>gender</th>\n",
       "      <th>wealthSource</th>\n",
       "      <th>industry</th>\n",
       "      <th>worth</th>\n",
       "    </tr>\n",
       "  </thead>\n",
       "  <tbody>\n",
       "    <tr>\n",
       "      <th>268</th>\n",
       "      <td>281</td>\n",
       "      <td>Albert Frere</td>\n",
       "      <td>92</td>\n",
       "      <td>Belgium</td>\n",
       "      <td>M</td>\n",
       "      <td>investments</td>\n",
       "      <td>Finance and Investments</td>\n",
       "      <td>6200</td>\n",
       "    </tr>\n",
       "    <tr>\n",
       "      <th>935</th>\n",
       "      <td>976</td>\n",
       "      <td>Aloysio de Andrade Faria</td>\n",
       "      <td>97</td>\n",
       "      <td>Brazil</td>\n",
       "      <td>M</td>\n",
       "      <td>banking</td>\n",
       "      <td>Finance and Investments</td>\n",
       "      <td>2500</td>\n",
       "    </tr>\n",
       "    <tr>\n",
       "      <th>1035</th>\n",
       "      <td>1078</td>\n",
       "      <td>David Gottesman</td>\n",
       "      <td>92</td>\n",
       "      <td>United States</td>\n",
       "      <td>M</td>\n",
       "      <td>investments</td>\n",
       "      <td>Finance and Investments</td>\n",
       "      <td>2300</td>\n",
       "    </tr>\n",
       "    <tr>\n",
       "      <th>1210</th>\n",
       "      <td>1262</td>\n",
       "      <td>Peter Peterson</td>\n",
       "      <td>92</td>\n",
       "      <td>United States</td>\n",
       "      <td>M</td>\n",
       "      <td>investments</td>\n",
       "      <td>Finance and Investments</td>\n",
       "      <td>2000</td>\n",
       "    </tr>\n",
       "    <tr>\n",
       "      <th>1397</th>\n",
       "      <td>1452</td>\n",
       "      <td>Charles Munger</td>\n",
       "      <td>94</td>\n",
       "      <td>United States</td>\n",
       "      <td>M</td>\n",
       "      <td>Berkshire Hathaway</td>\n",
       "      <td>Finance and Investments</td>\n",
       "      <td>1700</td>\n",
       "    </tr>\n",
       "    <tr>\n",
       "      <th>1453</th>\n",
       "      <td>1509</td>\n",
       "      <td>Stephen Jarislowsky</td>\n",
       "      <td>92</td>\n",
       "      <td>Canada</td>\n",
       "      <td>M</td>\n",
       "      <td>money management</td>\n",
       "      <td>Finance and Investments</td>\n",
       "      <td>1600</td>\n",
       "    </tr>\n",
       "    <tr>\n",
       "      <th>1634</th>\n",
       "      <td>1692</td>\n",
       "      <td>George Joseph</td>\n",
       "      <td>96</td>\n",
       "      <td>United States</td>\n",
       "      <td>M</td>\n",
       "      <td>insurance</td>\n",
       "      <td>Finance and Investments</td>\n",
       "      <td>1400</td>\n",
       "    </tr>\n",
       "    <tr>\n",
       "      <th>1777</th>\n",
       "      <td>1841</td>\n",
       "      <td>Wilma Tisch</td>\n",
       "      <td>90</td>\n",
       "      <td>United States</td>\n",
       "      <td>F</td>\n",
       "      <td>diversified</td>\n",
       "      <td>Finance and Investments</td>\n",
       "      <td>1300</td>\n",
       "    </tr>\n",
       "  </tbody>\n",
       "</table>\n",
       "</div>"
      ],
      "text/plain": [
       "      position                      name  age        country gender  \\\n",
       "268        281              Albert Frere   92        Belgium      M   \n",
       "935        976  Aloysio de Andrade Faria   97         Brazil      M   \n",
       "1035      1078           David Gottesman   92  United States      M   \n",
       "1210      1262            Peter Peterson   92  United States      M   \n",
       "1397      1452            Charles Munger   94  United States      M   \n",
       "1453      1509       Stephen Jarislowsky   92         Canada      M   \n",
       "1634      1692             George Joseph   96  United States      M   \n",
       "1777      1841               Wilma Tisch   90  United States      F   \n",
       "\n",
       "            wealthSource                 industry  worth  \n",
       "268          investments  Finance and Investments   6200  \n",
       "935              banking  Finance and Investments   2500  \n",
       "1035         investments  Finance and Investments   2300  \n",
       "1210         investments  Finance and Investments   2000  \n",
       "1397  Berkshire Hathaway  Finance and Investments   1700  \n",
       "1453    money management  Finance and Investments   1600  \n",
       "1634           insurance  Finance and Investments   1400  \n",
       "1777         diversified  Finance and Investments   1300  "
      ]
     },
     "execution_count": 18,
     "metadata": {},
     "output_type": "execute_result"
    }
   ],
   "source": [
    "#Find all wealthiest men in the world of the \"finance & investments\" industry who are over 90 years old.\n",
    "Financial_data = w[w['industry'] == 'Finance and Investments']\n",
    "Financial_data = Financial_data[Financial_data['age']>=90]\n",
    "Financial_data"
   ]
  },
  {
   "cell_type": "code",
   "execution_count": 19,
   "metadata": {},
   "outputs": [
    {
     "name": "stdout",
     "output_type": "stream",
     "text": [
      "                  name  age        country wealthSource  worth\n",
      "4      Mark Zuckerberg   34  United States     Facebook  71000\n",
      "98    Dustin Moskovitz   34  United States     Facebook  14000\n",
      "142    Eduardo Saverin   36         Brazil     Facebook  10100\n",
      "809    Jeff Rothschild   63  United States     Facebook   2900\n",
      "907        Sean Parker   38  United States     Facebook   2600\n",
      "1477   Sheryl Sandberg   48  United States     Facebook   1600\n",
      "\n",
      "                         name  age        country wealthSource  worth\n",
      "11                 Larry Page   45  United States       Google  48800\n",
      "12                Sergey Brin   44  United States       Google  47500\n",
      "102              Eric Schmidt   63  United States       Google  13400\n",
      "236  Andreas von Bechtolsheim   62        Germany       Google   6800\n",
      "277            David Cheriton   67         Canada       Google   6000\n",
      "\n",
      "Google average is 56.200000 while Facebook average is 42.166667\n"
     ]
    }
   ],
   "source": [
    "#problem 6\n",
    "#Find two lists of wealthiest persons -- first list contains those associated with Google (in terms of wealth source) and \n",
    "#second list contains those with Facebook. Compare the average age across the two lists.\n",
    "Facebook_data = w[w['wealthSource'] == 'Facebook']\n",
    "Google_data = w[w['wealthSource'] == 'Google']\n",
    "print(Facebook_data[['name','age','country','wealthSource','worth']])\n",
    "print(\"\")\n",
    "print((Google_data[['name','age','country','wealthSource','worth']]))\n",
    "Facebook_age = Facebook_data['age'].mean()\n",
    "Google_age = Google_data['age'].mean()\n",
    "print(\"\")\n",
    "print (\"Google average is %f while Facebook average is %f\" % (Google_age, Facebook_age))"
   ]
  },
  {
   "cell_type": "code",
   "execution_count": 20,
   "metadata": {},
   "outputs": [
    {
     "name": "stdout",
     "output_type": "stream",
     "text": [
      "the industry is Food and Beverage,the highest percentage is 0.193548\n"
     ]
    }
   ],
   "source": [
    "#problem 7 \n",
    "#Which industry (apart from Philanthropy/NGO) has the highest percentage of wealthiest women? \n",
    "industry_list = []\n",
    "rate_list = []\n",
    "for industry, industry_data in w.groupby('industry'):\n",
    "    if industry == 'Philanthropy/NGO':\n",
    "        continue\n",
    "    count_women = len(industry_data[industry_data['gender']=='F'])\n",
    "    rate = count_women/len(industry_data)\n",
    "    rate_list.append(rate)\n",
    "    industry_list.append(industry)\n",
    "    \n",
    "print( \"the industry is %s,the highest percentage is %f\" % (industry_list[rate_list.index(max(rate_list))],max(rate_list)) )"
   ]
  },
  {
   "cell_type": "code",
   "execution_count": 21,
   "metadata": {},
   "outputs": [
    {
     "name": "stdout",
     "output_type": "stream",
     "text": [
      "Angola\n",
      "     position               name  age country gender wealthSource  \\\n",
      "892       933  Isabel dos Santos   45  Angola      F  investments   \n",
      "\n",
      "                    industry  worth  \n",
      "892  Finance and Investments   2600  \n",
      "\n",
      "Portugal\n",
      "     position                   name  age   country gender  \\\n",
      "363       382  Maria Fernanda Amorim   83  Portugal      F   \n",
      "\n",
      "            wealthSource     industry  worth  \n",
      "363  energy, investments  Diversified   5100  \n",
      "\n",
      "['Angola', 'Portugal']\n"
     ]
    }
   ],
   "source": [
    "#Are there any countries in the world with all wealthiest persons being female?\n",
    "cty_list = []\n",
    "for country, country_data in w.groupby('country'):\n",
    "    count_women = len(country_data[country_data['gender']=='F'])\n",
    "    rate = count_women/len(country_data)\n",
    "    if rate == 1:\n",
    "        print(country)\n",
    "        print(country_data)\n",
    "        cty_list.append(country)\n",
    "        print(\"\")\n",
    "print(cty_list)"
   ]
  },
  {
   "cell_type": "code",
   "execution_count": 22,
   "metadata": {},
   "outputs": [
    {
     "name": "stdout",
     "output_type": "stream",
     "text": [
      "            position\n",
      "first_name          \n",
      "John              25\n",
      "David             18\n",
      "William           12\n",
      "James             12\n",
      "Robert            12\n",
      "Thomas            11\n",
      "Charles           10\n",
      "Richard            9\n",
      "Michael            8\n",
      "George             8\n"
     ]
    },
    {
     "name": "stderr",
     "output_type": "stream",
     "text": [
      "F:\\ana\\lib\\site-packages\\ipykernel_launcher.py:9: SettingWithCopyWarning: \n",
      "A value is trying to be set on a copy of a slice from a DataFrame.\n",
      "Try using .loc[row_indexer,col_indexer] = value instead\n",
      "\n",
      "See the caveats in the documentation: http://pandas.pydata.org/pandas-docs/stable/indexing.html#indexing-view-versus-copy\n",
      "  if __name__ == '__main__':\n"
     ]
    },
    {
     "data": {
      "text/html": [
       "<div>\n",
       "<style scoped>\n",
       "    .dataframe tbody tr th:only-of-type {\n",
       "        vertical-align: middle;\n",
       "    }\n",
       "\n",
       "    .dataframe tbody tr th {\n",
       "        vertical-align: top;\n",
       "    }\n",
       "\n",
       "    .dataframe thead th {\n",
       "        text-align: right;\n",
       "    }\n",
       "</style>\n",
       "<table border=\"1\" class=\"dataframe\">\n",
       "  <thead>\n",
       "    <tr style=\"text-align: right;\">\n",
       "      <th></th>\n",
       "      <th>position</th>\n",
       "      <th>name</th>\n",
       "      <th>age</th>\n",
       "      <th>country</th>\n",
       "      <th>gender</th>\n",
       "      <th>wealthSource</th>\n",
       "      <th>industry</th>\n",
       "      <th>worth</th>\n",
       "      <th>first_name</th>\n",
       "    </tr>\n",
       "  </thead>\n",
       "  <tbody>\n",
       "    <tr>\n",
       "      <th>19</th>\n",
       "      <td>20</td>\n",
       "      <td>Jack Ma</td>\n",
       "      <td>53</td>\n",
       "      <td>China</td>\n",
       "      <td>M</td>\n",
       "      <td>e-commerce</td>\n",
       "      <td>Technology</td>\n",
       "      <td>39000</td>\n",
       "      <td>Jack</td>\n",
       "    </tr>\n",
       "    <tr>\n",
       "      <th>732</th>\n",
       "      <td>770</td>\n",
       "      <td>Jack Dorsey</td>\n",
       "      <td>41</td>\n",
       "      <td>United States</td>\n",
       "      <td>M</td>\n",
       "      <td>Twitter</td>\n",
       "      <td>Technology</td>\n",
       "      <td>3100</td>\n",
       "      <td>Jack</td>\n",
       "    </tr>\n",
       "    <tr>\n",
       "      <th>1300</th>\n",
       "      <td>1354</td>\n",
       "      <td>Jack Cowin</td>\n",
       "      <td>75</td>\n",
       "      <td>Australia</td>\n",
       "      <td>M</td>\n",
       "      <td>fast food</td>\n",
       "      <td>Food and Beverage</td>\n",
       "      <td>1800</td>\n",
       "      <td>Jack</td>\n",
       "    </tr>\n",
       "  </tbody>\n",
       "</table>\n",
       "</div>"
      ],
      "text/plain": [
       "      position         name  age        country gender wealthSource  \\\n",
       "19          20      Jack Ma   53          China      M   e-commerce   \n",
       "732        770  Jack Dorsey   41  United States      M      Twitter   \n",
       "1300      1354   Jack Cowin   75      Australia      M    fast food   \n",
       "\n",
       "               industry  worth first_name  \n",
       "19           Technology  39000       Jack  \n",
       "732          Technology   3100       Jack  \n",
       "1300  Food and Beverage   1800       Jack  "
      ]
     },
     "execution_count": 22,
     "metadata": {},
     "output_type": "execute_result"
    }
   ],
   "source": [
    "#problem 8\n",
    "#Find the 10 most pupolar first names of wealthiest persons in the US. \n",
    "#How many wealthiest men in the world are with first name 'Jack'?\n",
    "def get_firstName(Name):\n",
    "        return(Name.split(' ')[0])\n",
    "    \n",
    "wp8 = w.copy()\n",
    "w_p8 = wp8[wp8['country']=='United States']\n",
    "w_p8['first_name'] = w_p8['name'].apply(get_firstName)\n",
    "w_p8 = w_p8.groupby('first_name').count()\n",
    "w_p8.sort_values(by = 'position',inplace=True,ascending=False)\n",
    "print(w_p8.head(10)[['position']])\n",
    "\n",
    "\n",
    "wp8['first_name'] = wp8['name'].apply(get_firstName)\n",
    "Jack_data = wp8[wp8['first_name']=='Jack']\n",
    "Jack_data"
   ]
  },
  {
   "cell_type": "code",
   "execution_count": 23,
   "metadata": {},
   "outputs": [
    {
     "name": "stdout",
     "output_type": "stream",
     "text": [
      "576 wealthiest persons are from BRICS\n",
      "\n",
      "the average age of China is 55.706231\n",
      "the average age of Brazil is 68.435897\n",
      "the average age of Russia is 55.033708\n",
      "the average age of India is 66.207547\n",
      "the average age of South Africa is 63.200000\n"
     ]
    }
   ],
   "source": [
    "#problem 9\n",
    "#Create a subset of the so-called BRICS countries (Brazil, Russia, India, China, South Africa). \n",
    "#In total, how many wealthiest persons are from BRICS? What is the average age of them by each country?\n",
    "\n",
    "Brics_data = w[(w['country'] == 'China')| (w['country'] == 'Brazil') |( w['country'] == 'Russia') | (w['country'] == 'India') | (w['country'] == 'South Africa')]\n",
    "count_brics = int(len(Brics_data))\n",
    "print( \"%d wealthiest persons are from BRICS\" % (count_brics))\n",
    "age_china = w[w['country'] == 'China']['age'].mean()\n",
    "age_Brazil = w[w['country'] == 'Brazil']['age'].mean()\n",
    "age_Russia = w[w['country'] == 'Russia']['age'].mean()\n",
    "age_India = w[w['country'] == 'India']['age'].mean()\n",
    "age_sa = w[w['country'] == 'South Africa']['age'].mean()\n",
    "\n",
    "print(\"\")\n",
    "print( \"the average age of China is %f\" % (age_china))\n",
    "print( \"the average age of Brazil is %f\" % (age_Brazil))\n",
    "print( \"the average age of Russia is %f\" % (age_Russia))\n",
    "print( \"the average age of India is %f\" % (age_India))\n",
    "print( \"the average age of South Africa is %f\" % (age_sa))"
   ]
  },
  {
   "cell_type": "code",
   "execution_count": 30,
   "metadata": {},
   "outputs": [
    {
     "data": {
      "text/plain": [
       "(array([ 0,  1,  2,  3,  4,  5,  6,  7,  8,  9, 10, 11, 12, 13, 14, 15]),\n",
       " <a list of 16 Text xticklabel objects>)"
      ]
     },
     "execution_count": 30,
     "metadata": {},
     "output_type": "execute_result"
    },
    {
     "data": {
      "image/png": "[encoded data removed]",
      "text/plain": [
       "<Figure size 432x288 with 1 Axes>"
      ]
     },
     "metadata": {
      "needs_background": "light"
     },
     "output_type": "display_data"
    }
   ],
   "source": [
    "#problem 10\n",
    "#Use the BRICS subset to make a boxplot of age by each industry, separated by gender with \"hue\" (in one graph). Comment on the plot.\n",
    "sns.boxplot(x='industry', y='age', hue='gender', data=Brics_data)\n",
    "plt.xticks(rotation=90)\n",
    "\n",
    "#comment\n",
    "#In the BRIC countries, the wealthest people in most industries are mainly between 50 and 70, \n",
    "#except for energy and diversified industries, where there are more women between 60 and 80. \n",
    "#The oldest appeared in the financial investment, close to 100 years old, \n",
    "#and the youngest diversified, about 30 years old."
   ]
  },
  {
   "cell_type": "markdown",
   "metadata": {},
   "source": [
    "## Question 3 (6 marks)\n",
    "\n",
    "Load the data from the following link https://raw.githubusercontent.com/datasets/covid-19/master/data/countries-aggregated.csv and use the data to answer this question. Note that data from this link have been applied in Part 1, Topic 3. `Use data up to the end of July (2020-07-31).`\n",
    "\n",
    "1. Find countries with deaths exceeding 10000. Get the first date for each of countries with more than 500000 confirmed cases.\n",
    "2. Compute the overall daily death rate (i.e. \"Deaths\" divided \"Confirmed\" across all countries in each day) and plot it in a line chart. Identify the period that the overall daily death rate is higher than 5%.  \n",
    "3. Make two rolling (moving-average) line plots (over 7 days) of new confirmed cases of Australia and Japan, respectively. Note: “new cases” is defined as the difference of confirmed cases over two consecutive days. Comment on the results.\n",
    "4. Find countries in the world with at least one day having more than 10000 new cases. \n"
   ]
  },
  {
   "cell_type": "code",
   "execution_count": 26,
   "metadata": {},
   "outputs": [],
   "source": [
    "# get the Covid-19 data from the web (use data up to 2020-07-31)\n",
    "# import data\n",
    "covid = pd.read_csv('https://raw.githubusercontent.com/datasets/covid-19/master/data/countries-aggregated.csv', parse_dates=['Date'])\n",
    "covid = covid[covid.Date<='2020-07-31']\n",
    "covid.tail(3)"
   ]
  },
  {
   "cell_type": "code",
   "execution_count": 71,
   "metadata": {},
   "outputs": [
    {
     "data": {
      "text/plain": [
       "{'Brazil',\n",
       " 'Colombia',\n",
       " 'France',\n",
       " 'India',\n",
       " 'Iran',\n",
       " 'Italy',\n",
       " 'Mexico',\n",
       " 'Peru',\n",
       " 'Russia',\n",
       " 'Spain',\n",
       " 'US',\n",
       " 'United Kingdom'}"
      ]
     },
     "execution_count": 71,
     "metadata": {},
     "output_type": "execute_result"
    }
   ],
   "source": [
    "#problem 1\n",
    "#Find countries with deaths exceeding 10000. \n",
    "covid_serious = covid[covid['Deaths']>10000]\n",
    "countries = set(np.array(covid_serious['Country']))\n",
    "#covid_serious\n",
    "countries"
   ]
  },
  {
   "cell_type": "code",
   "execution_count": 85,
   "metadata": {},
   "outputs": [
    {
     "name": "stdout",
     "output_type": "stream",
     "text": [
      "Brazil\n",
      "24463   2020-05-31\n",
      "Name: Date, dtype: datetime64[ns]\n",
      "\n",
      "India\n",
      "29407   2020-06-26\n",
      "Name: Date, dtype: datetime64[ns]\n",
      "\n",
      "Russia\n",
      "26648   2020-06-11\n",
      "Name: Date, dtype: datetime64[ns]\n",
      "\n",
      "US\n",
      "15214   2020-04-11\n",
      "Name: Date, dtype: datetime64[ns]\n",
      "\n"
     ]
    }
   ],
   "source": [
    "#Get the first date for each of countries with more than 500000 confirmed cases.\n",
    "covid_confirmed = covid[covid['Confirmed']>500000]\n",
    "covid_confirmed\n",
    "for x,y in covid_confirmed.groupby('Country'):\n",
    "    print(x)\n",
    "    print(y.head(1).Date)\n",
    "    print(\"\")"
   ]
  },
  {
   "cell_type": "code",
   "execution_count": 107,
   "metadata": {},
   "outputs": [
    {
     "data": {
      "text/plain": [
       "<matplotlib.axes._subplots.AxesSubplot at 0x1cca7fda908>"
      ]
     },
     "execution_count": 107,
     "metadata": {},
     "output_type": "execute_result"
    },
    {
     "data": {
      "image/png": "[encoded data removed]",
      "text/plain": [
       "<Figure size 432x288 with 1 Axes>"
      ]
     },
     "metadata": {
      "needs_background": "light"
     },
     "output_type": "display_data"
    }
   ],
   "source": [
    "#problem 2\n",
    "#Compute the overall daily death rate (i.e. \"Deaths\" divided \"Confirmed\" across all countries in each day) and \n",
    "#plot it in a line chart. Identify the period that the overall daily death rate is higher than 5%.\n",
    "covid_plot = covid.copy()\n",
    "covid_plot = covid_plot.groupby('Date').sum()\n",
    "#covid_daily = covid_plot.diff()\n",
    "covid_daily['daily_death_rate'] = covid_daily.Deaths/covid_daily.Confirmed\n",
    "covid_daily_plot = covid_daily[['daily_death_rate']]\n",
    "covid_daily_plot.plot()\n",
    "\n",
    "#the period that the overall daily death rate is higher than 5%\n",
    "#February to March, March to mid-May"
   ]
  },
  {
   "cell_type": "code",
   "execution_count": 117,
   "metadata": {},
   "outputs": [
    {
     "data": {
      "text/plain": [
       "<matplotlib.axes._subplots.AxesSubplot at 0x1cca9341518>"
      ]
     },
     "execution_count": 117,
     "metadata": {},
     "output_type": "execute_result"
    },
    {
     "data": {
      "image/png": "[encoded data removed]",
      "text/plain": [
       "<Figure size 432x288 with 1 Axes>"
      ]
     },
     "metadata": {
      "needs_background": "light"
     },
     "output_type": "display_data"
    },
    {
     "data": {
      "image/png": "[encoded data removed]",
      "text/plain": [
       "<Figure size 432x288 with 1 Axes>"
      ]
     },
     "metadata": {
      "needs_background": "light"
     },
     "output_type": "display_data"
    }
   ],
   "source": [
    "#problem 3\n",
    "#Make two rolling (moving-average) line plots (over 7 days) of new confirmed cases of Australia and Japan, respectively.\n",
    "#Note: “new cases” is defined as the difference of confirmed cases over two consecutive days. Comment on the results.\n",
    "Australia_coviddata = covid[covid['Country']=='Australia']\n",
    "Japan_coviddata = covid[covid['Country']=='Japan']\n",
    "Australia_coviddata.set_index('Date',inplace=True)\n",
    "Australia_coviddata = Australia_coviddata[['Confirmed']]\n",
    "\n",
    "Japan_coviddata.set_index('Date',inplace=True)\n",
    "Japan_coviddata = Japan_coviddata[['Confirmed']]\n",
    "\n",
    "#Japan_coviddata.set_index('Date',inplace=True)\n",
    "\n",
    "Australia_coviddata_new = Australia_coviddata.diff()\n",
    "Japan_coviddata_new = Japan_coviddata.diff()\n",
    "Australia_coviddata_new['rolling'] = Australia_coviddata_new['Confirmed'] .rolling(10).mean()\n",
    "Australia_coviddata_new.plot()\n",
    "Japan_coviddata_new['rolling'] = Japan_coviddata_new['Confirmed'] .rolling(10).mean()\n",
    "Japan_coviddata_new.plot()\n",
    "#pd.rolling_mean(Japan_coviddata_new['confirmed'], 10).plot(grid=True)\n",
    "\n",
    "#comment\n",
    "#The epidemics in Japan and Australia have reached two peaks. \n",
    "#The epidemic in Japan is more serious and it subsides not as fast as Australia. \n",
    "#Recently, both countries have ushered in a second wave of rebounds."
   ]
  },
  {
   "cell_type": "code",
   "execution_count": 106,
   "metadata": {},
   "outputs": [
    {
     "name": "stdout",
     "output_type": "stream",
     "text": [
      "Brazil\n",
      "\n",
      "Chile\n",
      "\n",
      "China\n",
      "\n",
      "Colombia\n",
      "\n",
      "Ecuador\n",
      "\n",
      "France\n",
      "\n",
      "India\n",
      "\n",
      "Kazakhstan\n",
      "\n",
      "Kyrgyzstan\n",
      "\n",
      "Pakistan\n",
      "\n",
      "Peru\n",
      "\n",
      "Russia\n",
      "\n",
      "South Africa\n",
      "\n",
      "US\n",
      "\n",
      "['Brazil', 'Chile', 'China', 'Colombia', 'Ecuador', 'France', 'India', 'Kazakhstan', 'Kyrgyzstan', 'Pakistan', 'Peru', 'Russia', 'South Africa', 'US']\n"
     ]
    }
   ],
   "source": [
    "#problem 4\n",
    "#Find countries in the world with at least one day having more than 10000 new cases.\n",
    "covid_country = covid.copy()\n",
    "covid_country_list = []\n",
    "for x,y in covid_country.groupby('Country'):\n",
    "    y.set_index('Date',inplace=True)\n",
    "    y = y[['Confirmed']]\n",
    "    daily_data = y.diff()\n",
    "    \n",
    "    daily_data_serious = daily_data[daily_data['Confirmed']>10000]\n",
    "    count_daily = len(daily_data_serious)\n",
    "    if count_daily >0:\n",
    "        print(x)\n",
    "        covid_country_list.append(x)\n",
    "        #print(daily_data_serious)\n",
    "        print(\"\")\n",
    "print(covid_country_list)"
   ]
  },
  {
   "cell_type": "code",
   "execution_count": null,
   "metadata": {},
   "outputs": [],
   "source": []
  }
 ],
 "metadata": {
  "kernelspec": {
   "display_name": "Python 3",
   "language": "python",
   "name": "python3"
  },
  "language_info": {
   "codemirror_mode": {
    "name": "ipython",
    "version": 3
   },
   "file_extension": ".py",
   "mimetype": "text/x-python",
   "name": "python",
   "nbconvert_exporter": "python",
   "pygments_lexer": "ipython3",
   "version": "3.7.1"
  }
 },
 "nbformat": 4,
 "nbformat_minor": 2
}
